{
 "cells": [
  {
   "cell_type": "code",
   "execution_count": 1,
   "metadata": {},
   "outputs": [],
   "source": [
    "import tensorflow as tf\n",
    "from tensorflow.keras import layers\n",
    "import keras\n",
    "import PIL\n",
    "from PIL import Image, ImageFilter\n",
    "import numpy as np\n",
    "import os\n",
    "import pathlib\n",
    "import glob\n",
    "import time"
   ]
  },
  {
   "cell_type": "markdown",
   "metadata": {},
   "source": [
    "# JPG to TFRECORD Converter\n",
    "\n",
    "This noteboook takes a directory of JPG files assumed to be frames from a video and converts them to a .tfrecord file to be used with frame prediction models. <br>\n",
    "\n",
    "It is reccomended to format the frames as something like frame0052.jpg (frame%04d) with a tool like ffmpeg or opencv. "
   ]
  },
  {
   "cell_type": "code",
   "execution_count": 2,
   "metadata": {},
   "outputs": [],
   "source": [
    "# Helper Functions\n",
    "def _int64_feature(value):\n",
    "    return tf.train.Feature(int64_list=tf.train.Int64List(value=[value]))\n",
    "    \n",
    "def _bytes_feature(value):\n",
    "    return tf.train.Feature(bytes_list=tf.train.BytesList(value=[value]))\n",
    "\n",
    "def image_feature(value):\n",
    "    \"\"\"Returns a bytes_list from a string / byte.\"\"\"\n",
    "    return tf.train.Feature(\n",
    "        bytes_list=tf.train.BytesList(value=[tf.io.encode_jpeg(value).numpy()])\n",
    "    )\n",
    "\n",
    "def make_square(im, min_size=512, fill_color=(0, 0, 0, 0)):\n",
    "    x, y = im.size\n",
    "    size = max(min_size, x, y)\n",
    "    new_im = Image.new('RGB', (size, size), fill_color)\n",
    "    new_im.paste(im, (int((size - x) / 2), int((size - y) / 2)))\n",
    "    return new_im"
   ]
  },
  {
   "cell_type": "code",
   "execution_count": 3,
   "metadata": {},
   "outputs": [
    {
     "name": "stdout",
     "output_type": "stream",
     "text": [
      "--------------------\n",
      "X Filenames Length:  29323\n",
      "--------------------\n"
     ]
    }
   ],
   "source": [
    "# Here, take a directory of frames and prep for prediction\n",
    "frame_dir = '/PATH/TO/DIR/OF/FRAMES/*'\n",
    "frames = glob.glob(frame_dir)\n",
    "frames.sort()\n",
    "\n",
    "\n",
    "x_filenames = frames[:-5]\n",
    "\n",
    "print(\"-\"*20)\n",
    "print(\"X Filenames Length: \", len(x_filenames))\n",
    "print(\"-\"*20)"
   ]
  },
  {
   "cell_type": "code",
   "execution_count": 4,
   "metadata": {},
   "outputs": [],
   "source": [
    "# Turns image data into tensorflow Example\n",
    "def create_example(x, y):\n",
    "    feature = {\n",
    "        \"image1\": image_feature(x[0]),\n",
    "        \"image2\": image_feature(x[1]),\n",
    "        \"image3\": image_feature(x[2]),\n",
    "        \"image4\": image_feature(x[3]),\n",
    "        \"image5\": image_feature(x[4]),\n",
    "        \"y\": image_feature(y),\n",
    "    }\n",
    "    return tf.train.Example(features=tf.train.Features(feature=feature))"
   ]
  },
  {
   "cell_type": "code",
   "execution_count": 9,
   "metadata": {
    "scrolled": true
   },
   "outputs": [
    {
     "name": "stdout",
     "output_type": "stream",
     "text": [
      "writing 0 entry of 9341\n",
      "writing 100 entry of 9341\n",
      "writing 200 entry of 9341\n",
      "writing 300 entry of 9341\n",
      "writing 400 entry of 9341\n",
      "writing 500 entry of 9341\n",
      "writing 600 entry of 9341\n",
      "writing 700 entry of 9341\n",
      "writing 800 entry of 9341\n",
      "writing 900 entry of 9341\n",
      "writing 1000 entry of 9341\n",
      "writing 1100 entry of 9341\n",
      "writing 1200 entry of 9341\n",
      "writing 1300 entry of 9341\n",
      "writing 1400 entry of 9341\n",
      "writing 1500 entry of 9341\n",
      "writing 1600 entry of 9341\n",
      "writing 1700 entry of 9341\n",
      "writing 1800 entry of 9341\n",
      "writing 1900 entry of 9341\n",
      "writing 2000 entry of 9341\n",
      "writing 2100 entry of 9341\n",
      "writing 2200 entry of 9341\n",
      "writing 2300 entry of 9341\n",
      "writing 2400 entry of 9341\n",
      "writing 2500 entry of 9341\n",
      "writing 2600 entry of 9341\n",
      "writing 2700 entry of 9341\n",
      "writing 2800 entry of 9341\n",
      "writing 2900 entry of 9341\n",
      "writing 3000 entry of 9341\n",
      "writing 3100 entry of 9341\n",
      "writing 3200 entry of 9341\n",
      "writing 3300 entry of 9341\n",
      "writing 3400 entry of 9341\n",
      "writing 3500 entry of 9341\n",
      "writing 3600 entry of 9341\n",
      "writing 3700 entry of 9341\n",
      "writing 3800 entry of 9341\n",
      "writing 3900 entry of 9341\n",
      "writing 4000 entry of 9341\n",
      "writing 4100 entry of 9341\n",
      "writing 4200 entry of 9341\n",
      "writing 4300 entry of 9341\n",
      "writing 4400 entry of 9341\n",
      "writing 4500 entry of 9341\n",
      "writing 4600 entry of 9341\n",
      "writing 4700 entry of 9341\n",
      "writing 4800 entry of 9341\n",
      "writing 4900 entry of 9341\n",
      "writing 5000 entry of 9341\n",
      "writing 5100 entry of 9341\n",
      "writing 5200 entry of 9341\n",
      "writing 5300 entry of 9341\n",
      "writing 5400 entry of 9341\n",
      "writing 5500 entry of 9341\n",
      "writing 5600 entry of 9341\n",
      "writing 5700 entry of 9341\n",
      "writing 5800 entry of 9341\n",
      "writing 5900 entry of 9341\n",
      "writing 6000 entry of 9341\n",
      "writing 6100 entry of 9341\n",
      "writing 6200 entry of 9341\n",
      "writing 6300 entry of 9341\n",
      "writing 6400 entry of 9341\n",
      "writing 6500 entry of 9341\n",
      "writing 6600 entry of 9341\n",
      "writing 6700 entry of 9341\n",
      "writing 6800 entry of 9341\n",
      "writing 6900 entry of 9341\n",
      "writing 7000 entry of 9341\n",
      "writing 7100 entry of 9341\n",
      "writing 7200 entry of 9341\n",
      "writing 7300 entry of 9341\n",
      "writing 7400 entry of 9341\n",
      "writing 7500 entry of 9341\n",
      "writing 7600 entry of 9341\n",
      "writing 7700 entry of 9341\n",
      "writing 7800 entry of 9341\n",
      "writing 7900 entry of 9341\n",
      "writing 8000 entry of 9341\n",
      "writing 8100 entry of 9341\n",
      "writing 8200 entry of 9341\n",
      "writing 8300 entry of 9341\n",
      "writing 8400 entry of 9341\n",
      "writing 8500 entry of 9341\n",
      "writing 8600 entry of 9341\n",
      "writing 8700 entry of 9341\n",
      "writing 8800 entry of 9341\n",
      "writing 8900 entry of 9341\n",
      "writing 9000 entry of 9341\n",
      "writing 9100 entry of 9341\n",
      "writing 9200 entry of 9341\n",
      "writing 9300 entry of 9341\n"
     ]
    }
   ],
   "source": [
    "# Create tfrecord:\n",
    "outs = '/PATH/TO/DATA/OUTPUT/training_data.tfrecord'\n",
    "\n",
    "with tf.io.TFRecordWriter(outs) as writer:\n",
    "    for i in range(len(x_filenames)-10):\n",
    "        if i % 100 == 0:\n",
    "            print(\"writing\", i, \"entry of\", len(x_filenames)-10)\n",
    "        \n",
    "        x = np.zeros((512,512,3*5))\n",
    "        x = []\n",
    "        \n",
    "        # Read 5 frames\n",
    "        for j in range(5):\n",
    "            if i == 0:\n",
    "                Image.open(x_filenames[i+j]).show()\n",
    "            x.append(tf.io.decode_jpeg(tf.io.read_file(x_filenames[i+j])))\n",
    "\n",
    "        # Read 6th frame\n",
    "        y = tf.io.decode_jpeg(tf.io.read_file(x_filenames[i+5]))\n",
    "        if i == 0:\n",
    "            time.sleep(1)\n",
    "            Image.open(x_filenames[i+5]).show()\n",
    "            \n",
    "\n",
    "        # Write to tfrecord\n",
    "        example = create_example(x, y)\n",
    "        writer.write(example.SerializeToString())"
   ]
  },
  {
   "cell_type": "markdown",
   "metadata": {},
   "source": [
    "## Validation code"
   ]
  },
  {
   "cell_type": "code",
   "execution_count": 6,
   "metadata": {},
   "outputs": [],
   "source": [
    "# READING TFRECORD\n",
    "def parse_tfrecord_fn(example):\n",
    "    feature_description = {\n",
    "        \"image1\": tf.io.FixedLenFeature([], tf.string),\n",
    "        \"image2\": tf.io.FixedLenFeature([], tf.string),\n",
    "        \"image3\": tf.io.FixedLenFeature([], tf.string),\n",
    "        \"image4\": tf.io.FixedLenFeature([], tf.string),\n",
    "        \"image5\": tf.io.FixedLenFeature([], tf.string),\n",
    "        \"y\": tf.io.FixedLenFeature([], tf.string),\n",
    "    }\n",
    "    example = tf.io.parse_single_example(example, feature_description)\n",
    "    example[\"image1\"] = tf.io.decode_jpeg(example[\"image1\"], channels=3)\n",
    "    example[\"image2\"] = tf.io.decode_jpeg(example[\"image2\"], channels=3)\n",
    "    example[\"image3\"] = tf.io.decode_jpeg(example[\"image3\"], channels=3)\n",
    "    example[\"image4\"] = tf.io.decode_jpeg(example[\"image4\"], channels=3)\n",
    "    example[\"image5\"] = tf.io.decode_jpeg(example[\"image5\"], channels=3)\n",
    "    example[\"y\"] = tf.io.decode_jpeg(example[\"y\"], channels=3)\n",
    "    \n",
    "    return example"
   ]
  },
  {
   "cell_type": "code",
   "execution_count": 7,
   "metadata": {},
   "outputs": [],
   "source": [
    "raw_dataset = tf.data.TFRecordDataset(outs)\n",
    "parsed_dataset = raw_dataset.map(parse_tfrecord_fn)"
   ]
  },
  {
   "cell_type": "code",
   "execution_count": 8,
   "metadata": {},
   "outputs": [
    {
     "name": "stdout",
     "output_type": "stream",
     "text": [
      "(512, 512, 3)\n",
      "(512, 512, 3)\n",
      "(512, 512, 3)\n",
      "(512, 512, 3)\n",
      "(512, 512, 3)\n",
      "(512, 512, 3)\n"
     ]
    }
   ],
   "source": [
    "for features in parsed_dataset.take(1):\n",
    "    for key in features.keys():\n",
    "        print(features[key].numpy().shape)\n",
    "        Image.fromarray(features[key].numpy()).show()"
   ]
  },
  {
   "cell_type": "code",
   "execution_count": null,
   "metadata": {},
   "outputs": [],
   "source": []
  }
 ],
 "metadata": {
  "kernelspec": {
   "display_name": "Python 3 (ipykernel)",
   "language": "python",
   "name": "python3"
  },
  "language_info": {
   "codemirror_mode": {
    "name": "ipython",
    "version": 3
   },
   "file_extension": ".py",
   "mimetype": "text/x-python",
   "name": "python",
   "nbconvert_exporter": "python",
   "pygments_lexer": "ipython3",
   "version": "3.8.9"
  }
 },
 "nbformat": 4,
 "nbformat_minor": 4
}
