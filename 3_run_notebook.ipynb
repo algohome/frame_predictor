{
 "cells": [
  {
   "cell_type": "code",
   "execution_count": null,
   "metadata": {},
   "outputs": [],
   "source": [
    "# Imports\n",
    "import numpy as np\n",
    "from PIL import Image, ImageOps\n",
    "import glob\n",
    "import os\n",
    "import sys\n",
    "import pathlib\n",
    "import keras\n",
    "from tensorflow.keras.layers import BatchNormalization, Activation\n",
    "from models import *\n",
    "from FrameProducer import FrameProducer\n",
    "from DataFeeder import JPGFeeder, MP4Feeder\n",
    "from utils import *\n",
    "\n",
    "tf.compat.v1.logging.set_verbosity(tf.compat.v1.logging.ERROR)"
   ]
  },
  {
   "cell_type": "code",
   "execution_count": null,
   "metadata": {},
   "outputs": [],
   "source": [
    "# Can use frames\n",
    "df = JPGFeeder(\n",
    "    \"/PATH/TO/DATA/AS/FRAMES/\",\n",
    "    (1024, 1024, 3),\n",
    "    \"RGB\",\n",
    "    5,\n",
    "    normalization_function=lambda x: np.array([p / 255 for p in [r for r in x]]),\n",
    "    preprocess_function=None,\n",
    ")\n",
    "\n",
    "# Or video file\n",
    "df = MP4Feeder(\n",
    "    \"/PATH/TO/DATA/AS/MP4/input_vid.mp4\",\n",
    "    (1024, 1024, 3),\n",
    "    \"RGB\",\n",
    "    5,\n",
    "    normalization_function=lambda x: np.array([p / 255 for p in [r for r in x]]),\n",
    "    preprocess_function=None,\n",
    ")\n",
    "\n",
    "\n",
    "# Declare Transitions\n",
    "t1 = {\n",
    "    \"type\": \"c\",\n",
    "    \"start_frame\": 0,\n",
    "    \"end_frame\": 1000,\n",
    "    \"transition_function\": lambda x: max(\n",
    "        (np.sin(x / 30) + 1) / 1.9, -2\n",
    "    ),  # Oscillating c\n",
    "    \"p_array\": None,\n",
    "}\n",
    "\n",
    "\n",
    "model_fn = make_bone_model\n",
    "weights = \"model_weights/bone\"\n",
    "vid_output_name = \"outputs/bone_output.avi\"\n",
    "c = 0\n",
    "history = 1\n",
    "\n",
    "# Use save_dir to save frames, use vid_output_name to save a video\n",
    "fp = FrameProducer(\n",
    "    model_fn,\n",
    "    c,\n",
    "    weights,\n",
    "    history,\n",
    "    df,\n",
    "    5,\n",
    "    transitions=[t1],\n",
    "    frames_to_produce=60,\n",
    "    mode=\"RGB\",\n",
    "    vid_output_name=vid_output_name,\n",
    ")\n",
    "\n",
    "fp.go()"
   ]
  },
  {
   "cell_type": "code",
   "execution_count": null,
   "metadata": {},
   "outputs": [],
   "source": []
  }
 ],
 "metadata": {
  "kernelspec": {
   "display_name": "Python 3",
   "language": "python",
   "name": "python3"
  },
  "language_info": {
   "codemirror_mode": {
    "name": "ipython",
    "version": 3
   },
   "file_extension": ".py",
   "mimetype": "text/x-python",
   "name": "python",
   "nbconvert_exporter": "python",
   "pygments_lexer": "ipython3",
   "version": "3.8.10"
  }
 },
 "nbformat": 4,
 "nbformat_minor": 4
}
