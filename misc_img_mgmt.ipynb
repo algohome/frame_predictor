{
 "cells": [
  {
   "cell_type": "code",
   "execution_count": 1,
   "metadata": {},
   "outputs": [],
   "source": [
    "from glob import glob\n",
    "import os\n",
    "from PIL import Image\n",
    "import numpy as np"
   ]
  },
  {
   "cell_type": "code",
   "execution_count": 4,
   "metadata": {},
   "outputs": [
    {
     "name": "stdout",
     "output_type": "stream",
     "text": [
      "29328\n",
      "/home/tom/data/frames/road_frames_reshaped/frame5985.jpg\n"
     ]
    }
   ],
   "source": [
    "in_dir = \"/home/tom/data/frames/road_frames_reshaped\"\n",
    "files = glob(os.path.join(in_dir, '*'))\n",
    "print(len(files))\n",
    "print(files[0])"
   ]
  },
  {
   "cell_type": "code",
   "execution_count": 19,
   "metadata": {},
   "outputs": [],
   "source": [
    "# Renaming\n",
    "for file in files:\n",
    "    path = '/'.join(file.split('/')[:-1])\n",
    "    name = file.split('/')[-1]\n",
    "    num = name[5:-4]\n",
    "    \n",
    "    \n",
    "    new_name = os.path.join(path, 'frame%06d'%int(num))\n",
    "    os.rename(file,new_name)"
   ]
  },
  {
   "cell_type": "code",
   "execution_count": 2,
   "metadata": {},
   "outputs": [],
   "source": [
    "# Reshaping\n",
    "filenames = glob('/home/tom/data/frames/sorts_circle/*')\n",
    "filenames.sort()\n",
    "for i, name in enumerate(filenames):\n",
    "    Image.open(name).resize((512,512)).save('/home/tom/data/frames/sorts_circle_reshaped/frame%04d.jpg'%i)"
   ]
  },
  {
   "cell_type": "code",
   "execution_count": 10,
   "metadata": {},
   "outputs": [],
   "source": [
    "filenames = glob('monitoring/deep_model_4_road_ycbcr/frame*.jpg')\n",
    "filenames.sort()\n",
    "\n",
    "arr = np.array(Image.open(filenames[0]))\n",
    "Image.fromarray(arr, mode=\"YCbCr\").show()"
   ]
  },
  {
   "cell_type": "code",
   "execution_count": 8,
   "metadata": {},
   "outputs": [
    {
     "data": {
      "text/plain": [
       "'monitoring/deep_model_4_road_ycbcr/frame.jpg'"
      ]
     },
     "execution_count": 8,
     "metadata": {},
     "output_type": "execute_result"
    }
   ],
   "source": [
    "filenames[0]"
   ]
  },
  {
   "cell_type": "code",
   "execution_count": null,
   "metadata": {},
   "outputs": [],
   "source": []
  }
 ],
 "metadata": {
  "kernelspec": {
   "display_name": "Python 3",
   "language": "python",
   "name": "python3"
  },
  "language_info": {
   "codemirror_mode": {
    "name": "ipython",
    "version": 3
   },
   "file_extension": ".py",
   "mimetype": "text/x-python",
   "name": "python",
   "nbconvert_exporter": "python",
   "pygments_lexer": "ipython3",
   "version": "3.8.10"
  }
 },
 "nbformat": 4,
 "nbformat_minor": 4
}
